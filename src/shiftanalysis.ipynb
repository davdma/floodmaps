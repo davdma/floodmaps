{
 "cells": [
  {
   "cell_type": "code",
   "execution_count": 1,
   "id": "08586a42-f989-4031-9d89-f8b94dc07b66",
   "metadata": {},
   "outputs": [],
   "source": [
    "import numpy as np\n",
    "from torch import nn\n",
    "import torch\n",
    "from torchvision import transforms\n",
    "import pickle\n",
    "from inference import get_model_sar\n",
    "from dataset import FloodSampleSARDataset\n",
    "from torch.utils.data import DataLoader\n",
    "from time import time\n",
    "from loss import InvariantBCELoss\n",
    "import matplotlib.pyplot as plt"
   ]
  },
  {
   "cell_type": "code",
   "execution_count": null,
   "id": "9898dc34-919d-4a07-be75-72a98f4e404e",
   "metadata": {},
   "outputs": [],
   "source": [
    "# Can do two ways:\n",
    "# Analyze shift by tile or by patch\n",
    "# For easiest way start with patch (make prediction over all patches in test set)"
   ]
  },
  {
   "cell_type": "markdown",
   "id": "8dc4392b-e90d-49ce-85b5-49563ad17120",
   "metadata": {},
   "source": [
    "# Get Model"
   ]
  },
  {
   "cell_type": "code",
   "execution_count": 2,
   "id": "f12a0669-be13-4bcc-80be-c1f651c95bca",
   "metadata": {},
   "outputs": [
    {
     "name": "stdout",
     "output_type": "stream",
     "text": [
      "cuda\n"
     ]
    }
   ],
   "source": [
    "device = (\"cuda\"\n",
    "          if torch.cuda.is_available()\n",
    "          else \"mps\"\n",
    "          if torch.backends.mps.is_available()\n",
    "          else \"cpu\"\n",
    "         )\n",
    "print(device)"
   ]
  },
  {
   "cell_type": "code",
   "execution_count": 3,
   "id": "0d2ea96c-42cc-4e22-99d6-1ec8e874dd90",
   "metadata": {},
   "outputs": [],
   "source": [
    "# shifted model\n",
    "n_channels = 7\n",
    "channels = [True] * 7\n",
    "config = {\n",
    "    'name': 'unet++',\n",
    "    'dropout': 0.0531091802785671,\n",
    "    'deep_supervision': True,\n",
    "    'autodespeckler': None,\n",
    "    'channels': channels,\n",
    "    'size': 68,\n",
    "    'window': 64\n",
    "}"
   ]
  },
  {
   "cell_type": "code",
   "execution_count": 26,
   "id": "eacafc22-fd8a-4e55-b8d6-4290ca6ad66e",
   "metadata": {},
   "outputs": [],
   "source": [
    "shifted_model = get_model_sar(config, n_channels, load_model_path=\"./models/sar_unet++_model78.pth\", device='cuda')\n",
    "# for all 10 models\n",
    "# paths = [f\"./models/sar_unet++_model{i}.pth\" for i in range(75, 85)]"
   ]
  },
  {
   "cell_type": "code",
   "execution_count": 4,
   "id": "5ca913af-b5d4-4ec5-83ec-96e313027379",
   "metadata": {},
   "outputs": [],
   "source": [
    "# shifted + flipped model\n",
    "flip_model = get_model_sar(config, n_channels, load_model_path=\"./models/sar_unet++_model132.pth\", device='cuda')"
   ]
  },
  {
   "cell_type": "markdown",
   "id": "354b130e-aaec-4791-85af-21c549225022",
   "metadata": {},
   "source": [
    "### By Patch"
   ]
  },
  {
   "cell_type": "code",
   "execution_count": 5,
   "id": "11e92218-f7e9-4791-bf6d-599878e82c8e",
   "metadata": {},
   "outputs": [],
   "source": [
    "sample_dir = f'data/sar/minibatch/raw/samples_68_1000/'\n",
    "# load in mean and std\n",
    "b_channels = sum(channels[-2:])\n",
    "with open(f'data/sar/stats/minibatch_raw_68_1000.pkl', 'rb') as f:\n",
    "    train_mean, train_std = pickle.load(f)\n",
    "\n",
    "    train_mean = torch.from_numpy(train_mean[channels])\n",
    "    train_std = torch.from_numpy(train_std[channels])\n",
    "    # make sure binary channels are 0 mean and 1 std\n",
    "    if b_channels > 0:\n",
    "        train_mean[-b_channels:] = 0\n",
    "        train_std[-b_channels:] = 1\n",
    "\n",
    "# need to make sure normalize here works as intended\n",
    "standardize = transforms.Compose([transforms.Normalize(train_mean, train_std)])\n",
    "train_set = FloodSampleSARDataset(sample_dir, channels=config['channels'], typ=\"train\", transform=standardize)\n",
    "val_set = FloodSampleSARDataset(sample_dir, channels=config['channels'], typ=\"val\", transform=standardize)\n",
    "test_set = FloodSampleSARDataset(sample_dir, channels=config['channels'], typ=\"test\", transform=standardize)"
   ]
  },
  {
   "cell_type": "code",
   "execution_count": 27,
   "id": "35e17c9b-0c9e-4bb4-b595-d43f8727678f",
   "metadata": {},
   "outputs": [],
   "source": [
    "train_loader = DataLoader(train_set,\n",
    "                        batch_size=256,\n",
    "                        num_workers=10,\n",
    "                        persistent_workers=True,\n",
    "                        pin_memory=True,\n",
    "                        shuffle=True,\n",
    "                        drop_last=False)"
   ]
  },
  {
   "cell_type": "code",
   "execution_count": 6,
   "id": "14c3d73a-9d83-46f4-b10a-b1450f3daee4",
   "metadata": {},
   "outputs": [],
   "source": [
    "val_loader = DataLoader(val_set,\n",
    "                        batch_size=256,\n",
    "                        num_workers=10,\n",
    "                        persistent_workers=True,\n",
    "                        pin_memory=True,\n",
    "                        shuffle=True,\n",
    "                        drop_last=False)"
   ]
  },
  {
   "cell_type": "code",
   "execution_count": 7,
   "id": "f660070f-cfa8-49fe-b3f7-19ca9212ff76",
   "metadata": {},
   "outputs": [],
   "source": [
    "test_loader = DataLoader(test_set,\n",
    "                        batch_size=256,\n",
    "                        num_workers=10,\n",
    "                        persistent_workers=True,\n",
    "                        pin_memory=True,\n",
    "                        shuffle=True,\n",
    "                        drop_last=False)"
   ]
  },
  {
   "cell_type": "code",
   "execution_count": 8,
   "id": "37b7797e-cacc-4264-8ef9-2c54876d0174",
   "metadata": {},
   "outputs": [],
   "source": [
    "center_1 = (config['size'] - config['window']) // 2\n",
    "center_2 = center_1 + config['window']\n",
    "c = (center_1, center_2)"
   ]
  },
  {
   "cell_type": "code",
   "execution_count": 9,
   "id": "fb83ca14-80cf-4d80-8aa3-e568d7376760",
   "metadata": {},
   "outputs": [],
   "source": [
    "# just use BCELoss for loss_fn\n",
    "def get_best_shift(inputs, targets, loss_fn, device='cpu'):   \n",
    "    \"\"\"Return 5x5 numpy array with counts from the batch.\"\"\"\n",
    "    shift1 = targets.shape[-2] - inputs.shape[-2] + 1 # 5\n",
    "    shift2 = targets.shape[-1] - inputs.shape[-1] + 1 # 5\n",
    "    \n",
    "    # issue of label being all zeros OR ones??? mask out all those patches where label is zeros or all ones\n",
    "    # Create a mask where each row that is not all zeros is True\n",
    "    mask1 = ~(targets == 0).all(axis=(1, 2, 3))\n",
    "    mask2 = ~(targets == 1).all(axis=(1, 2, 3))\n",
    "    combined_mask = mask1 & mask2\n",
    "    # Use the mask to filter out the rows that are all zeros\n",
    "    filtered_inputs = inputs[combined_mask]\n",
    "    filtered_targets = targets[combined_mask]\n",
    "\n",
    "    # calculate all potential shifts\n",
    "    patch_shift_err = torch.empty((filtered_inputs.shape[0], shift1 * shift2), dtype=torch.float32, device=device)\n",
    "    for i in range(shift1):\n",
    "        for j in range(shift2):\n",
    "            window = filtered_targets[:, :, i:i+inputs.shape[-2], j:j+inputs.shape[-1]]\n",
    "            patch_shift_err[:, i * shift2 + j] = loss_fn(filtered_inputs, window)\n",
    "\n",
    "    # we want to get counts for the shifts from patch_shift_err of a whole batch\n",
    "    min_idx = torch.argmin(patch_shift_err, dim=1) # an array of indices, want to count them up\n",
    "\n",
    "    # convert to numpy\n",
    "    min_idx = min_idx.to('cpu').numpy()\n",
    "    shift_count = np.bincount(min_idx, minlength=shift1 * shift2).reshape((shift1, shift2))\n",
    "\n",
    "    return shift_count"
   ]
  },
  {
   "cell_type": "code",
   "execution_count": 10,
   "id": "95b6d0a8-a6c4-41e7-acdd-0572b9b0d61f",
   "metadata": {},
   "outputs": [],
   "source": [
    "# Do a heatmap of the 5x5 shift boxes!!!\n",
    "def get_shift_count(loader, model, device):\n",
    "    loss_fn = InvariantBCELoss()\n",
    "    shift_count = np.zeros((5, 5), dtype=np.int32)\n",
    "    with torch.no_grad():\n",
    "        for X, y in loader:\n",
    "            X = X.to(device)\n",
    "            y = y.to(device)\n",
    "            X_c = X[:, :, c[0]:c[1], c[0]:c[1]]\n",
    "            logits = model(X_c)\n",
    "            batch_shift_count = get_best_shift(logits, y.float(), loss_fn, device=device)\n",
    "    \n",
    "            shift_count = shift_count + batch_shift_count\n",
    "\n",
    "    return shift_count"
   ]
  },
  {
   "cell_type": "markdown",
   "id": "49ea2a24-ea70-4fcc-ad0f-230f183793dd",
   "metadata": {},
   "source": [
    "### Shifted Model"
   ]
  },
  {
   "cell_type": "code",
   "execution_count": 31,
   "id": "05c3f588-355a-4087-84e8-ac59006107dc",
   "metadata": {},
   "outputs": [],
   "source": [
    "train_shift = get_shift_count(train_loader, shifted_model, device)"
   ]
  },
  {
   "cell_type": "code",
   "execution_count": 32,
   "id": "58c607a7-f3b4-42d3-a832-b23b071af4a2",
   "metadata": {},
   "outputs": [
    {
     "data": {
      "text/plain": [
       "array([[ 9120,  1992,  2132,  2392,  4480],\n",
       "       [ 1782,   364,   659,   831,  1750],\n",
       "       [ 2043,   819,  2015,  5666,  7843],\n",
       "       [ 2198,  1373, 21209, 46360, 67980],\n",
       "       [ 3451,  2001,  9876, 15641, 14149]])"
      ]
     },
     "execution_count": 32,
     "metadata": {},
     "output_type": "execute_result"
    }
   ],
   "source": [
    "train_shift"
   ]
  },
  {
   "cell_type": "code",
   "execution_count": 33,
   "id": "0931bf60-982d-4ed4-85ea-a8a87422b6e6",
   "metadata": {},
   "outputs": [
    {
     "data": {
      "text/plain": [
       "<matplotlib.image.AxesImage at 0x1489ba028890>"
      ]
     },
     "execution_count": 33,
     "metadata": {},
     "output_type": "execute_result"
    },
    {
     "data": {
      "image/png": "[encoded data removed]",
      "text/plain": [
       "<Figure size 640x480 with 1 Axes>"
      ]
     },
     "metadata": {},
     "output_type": "display_data"
    }
   ],
   "source": [
    "plt.imshow(train_shift)"
   ]
  },
  {
   "cell_type": "code",
   "execution_count": 35,
   "id": "76cc0c6e-97b1-475b-8306-e4837be05702",
   "metadata": {},
   "outputs": [],
   "source": [
    "val_shift = get_shift_count(val_loader, shifted_model, device)"
   ]
  },
  {
   "cell_type": "code",
   "execution_count": 36,
   "id": "f4fd48e6-3360-449d-b22b-79afab31c222",
   "metadata": {},
   "outputs": [
    {
     "data": {
      "text/plain": [
       "array([[1048,  184,  187,  198,  489],\n",
       "       [ 210,   33,   52,   53,  132],\n",
       "       [ 216,   73,  164,  608, 1038],\n",
       "       [ 236,  122, 1884, 7243, 9238],\n",
       "       [ 475,  154, 1219, 1440, 1570]])"
      ]
     },
     "execution_count": 36,
     "metadata": {},
     "output_type": "execute_result"
    }
   ],
   "source": [
    "val_shift"
   ]
  },
  {
   "cell_type": "code",
   "execution_count": 37,
   "id": "f71558b7-fe88-4105-87a8-e5ac0c678fc4",
   "metadata": {},
   "outputs": [
    {
     "data": {
      "text/plain": [
       "<matplotlib.image.AxesImage at 0x1489b8d3d110>"
      ]
     },
     "execution_count": 37,
     "metadata": {},
     "output_type": "execute_result"
    },
    {
     "data": {
      "image/png": "[encoded data removed]",
      "text/plain": [
       "<Figure size 640x480 with 1 Axes>"
      ]
     },
     "metadata": {},
     "output_type": "display_data"
    }
   ],
   "source": [
    "plt.imshow(val_shift)"
   ]
  },
  {
   "cell_type": "code",
   "execution_count": 39,
   "id": "94042bc3-c4b9-4bcb-a4e4-651485972f06",
   "metadata": {},
   "outputs": [],
   "source": [
    "test_shift = get_shift_count(test_loader, shifted_model, device)"
   ]
  },
  {
   "cell_type": "code",
   "execution_count": 40,
   "id": "02e1a750-6f95-4813-ac12-a5039527cca1",
   "metadata": {},
   "outputs": [
    {
     "data": {
      "text/plain": [
       "array([[1193,  198,  211,  256,  515],\n",
       "       [ 221,   44,   59,   80,  224],\n",
       "       [ 298,  107,  247,  693,  968],\n",
       "       [ 208,  151, 2087, 6684, 9710],\n",
       "       [ 601,  203, 1256, 1595, 1780]])"
      ]
     },
     "execution_count": 40,
     "metadata": {},
     "output_type": "execute_result"
    }
   ],
   "source": [
    "test_shift"
   ]
  },
  {
   "cell_type": "code",
   "execution_count": 41,
   "id": "dd4df5d5-172e-41f6-ab31-54d1391af48e",
   "metadata": {},
   "outputs": [
    {
     "data": {
      "text/plain": [
       "<matplotlib.image.AxesImage at 0x1489b8d4be90>"
      ]
     },
     "execution_count": 41,
     "metadata": {},
     "output_type": "execute_result"
    },
    {
     "data": {
      "image/png": "[encoded data removed]",
      "text/plain": [
       "<Figure size 640x480 with 1 Axes>"
      ]
     },
     "metadata": {},
     "output_type": "display_data"
    }
   ],
   "source": [
    "plt.imshow(test_shift)"
   ]
  },
  {
   "cell_type": "markdown",
   "id": "9d1a2650-5bba-4681-81c5-7c4c147c7e4b",
   "metadata": {},
   "source": [
    "### Shift + Flipping Model"
   ]
  },
  {
   "cell_type": "code",
   "execution_count": 42,
   "id": "7dba0686-0fd5-41db-bfc6-ec921d119347",
   "metadata": {},
   "outputs": [],
   "source": [
    "f_train_shift = get_shift_count(train_loader, flip_model, device)"
   ]
  },
  {
   "cell_type": "code",
   "execution_count": 43,
   "id": "d56e126a-888e-4626-837e-3ed6061537ad",
   "metadata": {},
   "outputs": [
    {
     "data": {
      "text/plain": [
       "array([[ 9745,  2028,  2199,  2317,  5225],\n",
       "       [ 1930,   414,   921,   869,  2225],\n",
       "       [ 2085,   735,  1696,  5403, 16983],\n",
       "       [ 2262,  1277,  6150, 20978, 84643],\n",
       "       [ 4148,  1819, 20481, 14427, 17166]])"
      ]
     },
     "execution_count": 43,
     "metadata": {},
     "output_type": "execute_result"
    }
   ],
   "source": [
    "f_train_shift"
   ]
  },
  {
   "cell_type": "code",
   "execution_count": 44,
   "id": "590b8591-046a-4177-97f9-194c1e1d457c",
   "metadata": {},
   "outputs": [
    {
     "data": {
      "text/plain": [
       "<matplotlib.image.AxesImage at 0x1489b8de8e10>"
      ]
     },
     "execution_count": 44,
     "metadata": {},
     "output_type": "execute_result"
    },
    {
     "data": {
      "image/png": "[encoded data removed]",
      "text/plain": [
       "<Figure size 640x480 with 1 Axes>"
      ]
     },
     "metadata": {},
     "output_type": "display_data"
    }
   ],
   "source": [
    "plt.imshow(f_train_shift)"
   ]
  },
  {
   "cell_type": "code",
   "execution_count": 11,
   "id": "fd8103fe-8ecb-44fd-8c4a-1757d09bbd67",
   "metadata": {},
   "outputs": [],
   "source": [
    "f_val_shift = get_shift_count(val_loader, flip_model, device)"
   ]
  },
  {
   "cell_type": "code",
   "execution_count": 12,
   "id": "65037d4c-7b04-46de-a817-98f5be23f186",
   "metadata": {},
   "outputs": [
    {
     "data": {
      "text/plain": [
       "array([[ 1062,   201,   211,   198,   611],\n",
       "       [  253,    48,    61,    99,   242],\n",
       "       [  183,    38,   137,   584,  2223],\n",
       "       [  180,    83,   479,  2736, 12335],\n",
       "       [  511,   173,  2417,  1076,  2125]])"
      ]
     },
     "execution_count": 12,
     "metadata": {},
     "output_type": "execute_result"
    }
   ],
   "source": [
    "f_val_shift"
   ]
  },
  {
   "cell_type": "code",
   "execution_count": 14,
   "id": "1eae4236-0e9d-46f5-abcf-b88ddcee00a6",
   "metadata": {},
   "outputs": [
    {
     "data": {
      "text/plain": [
       "<matplotlib.image.AxesImage at 0x1546f58fae90>"
      ]
     },
     "execution_count": 14,
     "metadata": {},
     "output_type": "execute_result"
    },
    {
     "data": {
      "image/png": "[encoded data removed]",
      "text/plain": [
       "<Figure size 640x480 with 1 Axes>"
      ]
     },
     "metadata": {},
     "output_type": "display_data"
    }
   ],
   "source": [
    "plt.imshow(f_val_shift)"
   ]
  },
  {
   "cell_type": "code",
   "execution_count": 15,
   "id": "2b93a310-5782-49d7-ad6c-9a37dcad66e6",
   "metadata": {},
   "outputs": [],
   "source": [
    "f_test_shift = get_shift_count(test_loader, flip_model, device)"
   ]
  },
  {
   "cell_type": "code",
   "execution_count": 16,
   "id": "c1cc56ad-7a13-4c5f-96b2-272a64ff2ca5",
   "metadata": {},
   "outputs": [
    {
     "data": {
      "text/plain": [
       "array([[ 1187,   211,   219,   224,   612],\n",
       "       [  242,    34,    33,    61,   300],\n",
       "       [  303,    82,   139,   622,  1922],\n",
       "       [  230,    97,   960,  2206, 13080],\n",
       "       [  623,   232,  1882,  1656,  2432]])"
      ]
     },
     "execution_count": 16,
     "metadata": {},
     "output_type": "execute_result"
    }
   ],
   "source": [
    "f_test_shift"
   ]
  },
  {
   "cell_type": "code",
   "execution_count": 17,
   "id": "df77cb6e-6400-46e8-a849-850fb8b57540",
   "metadata": {},
   "outputs": [
    {
     "data": {
      "text/plain": [
       "<matplotlib.image.AxesImage at 0x1546f56ab7d0>"
      ]
     },
     "execution_count": 17,
     "metadata": {},
     "output_type": "execute_result"
    },
    {
     "data": {
      "image/png": "[encoded data removed]",
      "text/plain": [
       "<Figure size 640x480 with 1 Axes>"
      ]
     },
     "metadata": {},
     "output_type": "display_data"
    }
   ],
   "source": [
    "plt.imshow(f_test_shift)"
   ]
  },
  {
   "cell_type": "markdown",
   "id": "29de6ba0-976a-4558-9291-9b5e17318703",
   "metadata": {},
   "source": [
    "### By Tile"
   ]
  },
  {
   "cell_type": "code",
   "execution_count": 6,
   "id": "eaa2b67d-7da5-4c06-8d21-47f265bc5070",
   "metadata": {},
   "outputs": [],
   "source": [
    "# from inference import sample_one_sar\n",
    "from utils import SARChannelIndexer\n",
    "from glob import glob\n",
    "import re\n",
    "import rasterio"
   ]
  },
  {
   "cell_type": "markdown",
   "id": "4df8f877-0735-49b9-9957-97949fb7e9df",
   "metadata": {},
   "source": [
    "For each of the 400+ tiles in the dataset, make prediction using our model and calculate the shift direction of prediction vs. true label."
   ]
  },
  {
   "cell_type": "code",
   "execution_count": 7,
   "id": "650a38b6-4f2f-4451-87a7-65b7a115b33a",
   "metadata": {},
   "outputs": [],
   "source": [
    "# first compile list of directory paths to appropriate files\n",
    "def get_all_tiles(sample_dir='../sampling/samples_200_6_4_10_sar/'):\n",
    "    \"\"\"Get list of all tile files\"\"\"\n",
    "    lst = []\n",
    "    all_events = glob(sample_dir + '[0-9]*')\n",
    "    p1 = re.compile('\\d{8}_\\d+_\\d+')\n",
    "    p2 = re.compile('pred_(\\d{8})_.+.tif')\n",
    "    p3 = re.compile('sar_\\d{8}_(\\d{8})_.+.tif')\n",
    "    for event in all_events:\n",
    "        m1 = p1.search(event)\n",
    "\n",
    "        if m1:\n",
    "            eid = m1.group(0)\n",
    "        else:\n",
    "            print(f'No matching eid. Skipping {event}...')\n",
    "            continue\n",
    "\n",
    "        # search for label file + sar file\n",
    "        # look for labels w tci + sar pairings\n",
    "        for label in glob(event + f'/pred_*.tif'):\n",
    "            m2 = p2.search(label)\n",
    "            img_dt = m2.group(1)\n",
    "            \n",
    "            sar_vv_files = glob(event + f'/sar_{img_dt}_*_vv.tif')\n",
    "            if len(sar_vv_files) == 0:\n",
    "                # SKIP IF SAR NOT FOUND FOR A LABEL (THIS IS SOMETIMES POSSIBLE)\n",
    "                print(f'SAR file not found for label {label}')\n",
    "                continue \n",
    "            else:\n",
    "                # found a tile - collect files for processing\n",
    "                m3 = p3.search(sar_vv_files[0])\n",
    "                dir_path = sample_dir + eid\n",
    "                s2_dt = img_dt\n",
    "                s1_dt = m3.group(1)\n",
    "                lst.append((dir_path, s2_dt, s1_dt, eid, label))\n",
    "\n",
    "    return lst\n",
    "\n",
    "def get_pred_logits(size, model, channels, standardize, train_mean, dir_path, s2_dt, s1_dt, eid, device='cpu'):\n",
    "    layers = []\n",
    "    my_channels = SARChannelIndexer(channels)\n",
    "    if my_channels.has_vv():\n",
    "        vv_file = dir_path + f'/sar_{s2_dt}_{s1_dt}_{eid}_vv.tif'\n",
    "        with rasterio.open(vv_file) as src:\n",
    "            vv_raster = src.read()\n",
    "        layers.append(vv_raster)\n",
    "    if my_channels.has_vh():\n",
    "        vh_file = dir_path + f'/sar_{s2_dt}_{s1_dt}_{eid}_vh.tif'\n",
    "        with rasterio.open(vh_file) as src:\n",
    "            vh_raster = src.read()\n",
    "        layers.append(vh_raster)\n",
    "\n",
    "    # need dem for slope regardless if in channels or not\n",
    "    dem_file = dir_path + f'/dem_{eid}.tif'\n",
    "    with rasterio.open(dem_file) as src:\n",
    "        dem_raster = src.read().astype(np.float32)\n",
    "    if my_channels.has_dem():\n",
    "        layers.append(dem_raster)\n",
    "        \n",
    "    slope = np.gradient(dem_raster, axis=(1,2))\n",
    "    slope_y_raster, slope_x_raster = slope\n",
    "    if my_channels.has_slope_y():\n",
    "        layers.append(slope_y_raster)\n",
    "    if my_channels.has_slope_x():\n",
    "        layers.append(slope_x_raster)\n",
    "    if my_channels.has_waterbody():\n",
    "        waterbody_file = dir_path + f'/waterbody_{eid}.tif'\n",
    "        with rasterio.open(waterbody_file) as src:\n",
    "            waterbody_raster = src.read().astype(np.float32)\n",
    "        layers.append(waterbody_raster)\n",
    "    if my_channels.has_roads():\n",
    "        roads_file = dir_path + f'/roads_{eid}.tif'\n",
    "        with rasterio.open(roads_file) as src:\n",
    "            roads_raster = src.read().astype(np.float32)\n",
    "        layers.append(roads_raster)\n",
    "\n",
    "    X = np.vstack(layers, dtype=np.float32)\n",
    "\n",
    "    # get missing values mask (to later zero out)\n",
    "    missing_vals = X[0] == -9999\n",
    "    \n",
    "    # impute missing values in each channel with its mean\n",
    "    train_mean = train_mean.tolist()\n",
    "    for i, mean in enumerate(train_mean):\n",
    "        X[i][missing_vals] = mean\n",
    "        \n",
    "    X = torch.from_numpy(X)\n",
    "    X = standardize(X)\n",
    "\n",
    "    # tile discretely and make predictions\n",
    "    HEIGHT = X.shape[-2]\n",
    "    WIDTH = X.shape[-1]\n",
    "    label = torch.zeros((HEIGHT, WIDTH), dtype=torch.float32)\n",
    "\n",
    "    # send to device\n",
    "    X = X.to(device)\n",
    "    \n",
    "    i = 0\n",
    "    while i * size < HEIGHT:\n",
    "        j = 0\n",
    "        while j * size < WIDTH:\n",
    "            start_row = i * size\n",
    "            start_col = j * size\n",
    "            end_row = (i + 1) * size if (i + 1) * size <= HEIGHT else HEIGHT\n",
    "            end_col = (j + 1) * size if (j + 1) * size <= WIDTH else WIDTH\n",
    "            \n",
    "            dh = end_row - start_row # normally size\n",
    "            dw = end_col - start_col # normally size\n",
    "            if dh < size:\n",
    "                # boundary tile\n",
    "                patch_row = start_row - size + dh\n",
    "            else:\n",
    "                patch_row = start_row\n",
    "\n",
    "            if dw < size:\n",
    "                patch_col = start_col - size + dw\n",
    "            else:\n",
    "                patch_col = start_col\n",
    "\n",
    "            patch = X[:, patch_row : patch_row + size, patch_col : patch_col + size].unsqueeze(0)\n",
    "\n",
    "            with torch.no_grad():\n",
    "                patch_logits = model(patch) # .squeeze()\n",
    "                \n",
    "                # stitch tiles together and convert to numpy then use boolean mask\n",
    "                # want H x W\n",
    "                patch_pred = patch_logits.squeeze().to('cpu')\n",
    "                label[start_row : end_row, start_col : end_col] = patch_pred[size - dh:, size - dw:]\n",
    "            j += 1\n",
    "        i += 1\n",
    "\n",
    "    label[missing_vals] = 0\n",
    "    return label\n",
    "\n",
    "def get_best_tile_shift(pred, label, loss_fn, shift_size=2):\n",
    "    \"\"\"Takes label and pred torch tensors and returns shift index with smallest BCE error.\n",
    "    Assume also the tensors are (H x W) in shape.\"\"\"\n",
    "    # for 469 x 399 - subtract 2 on both sides\n",
    "    # shrink pred to 465 x 395\n",
    "    shift1 = shift_size * 2 + 1 \n",
    "    shift2 = shift_size * 2 + 1\n",
    "    shift_err = torch.empty((shift1 * shift2), dtype=torch.float32)\n",
    "    inputs = pred[shift_size:-shift_size, shift_size:-shift_size]\n",
    "    for i in range(shift1):\n",
    "        for j in range(shift2):\n",
    "            window = label[i:i+inputs.shape[0], j:j+inputs.shape[1]]\n",
    "            shift_err[i * shift2 + j] = loss_fn(inputs, window)\n",
    "    best_shift = shift_err.argmin().item()\n",
    "    return best_shift // shift2, best_shift % shift2"
   ]
  },
  {
   "cell_type": "code",
   "execution_count": 8,
   "id": "6a6ff415-3e12-4af2-b2e6-9813f58e8e4e",
   "metadata": {},
   "outputs": [
    {
     "name": "stdout",
     "output_type": "stream",
     "text": [
      "SAR file not found for label ../sampling/samples_200_6_4_10_sar/20200812_378_746/pred_20200816_20200812_378_746.tif\n",
      "SAR file not found for label ../sampling/samples_200_6_4_10_sar/20190906_394_1102/pred_20190906_20190906_394_1102.tif\n",
      "SAR file not found for label ../sampling/samples_200_6_4_10_sar/20190906_394_1100/pred_20190906_20190906_394_1100.tif\n",
      "SAR file not found for label ../sampling/samples_200_6_4_10_sar/20190906_395_1099/pred_20190906_20190906_395_1099.tif\n",
      "SAR file not found for label ../sampling/samples_200_6_4_10_sar/20190906_393_1101/pred_20190906_20190906_393_1101.tif\n",
      "SAR file not found for label ../sampling/samples_200_6_4_10_sar/20190906_396_1100/pred_20190906_20190906_396_1100.tif\n",
      "SAR file not found for label ../sampling/samples_200_6_4_10_sar/20180917_389_1098/pred_20180921_20180917_389_1098.tif\n",
      "SAR file not found for label ../sampling/samples_200_6_4_10_sar/20190906_395_1102/pred_20190906_20190906_395_1102.tif\n",
      "SAR file not found for label ../sampling/samples_200_6_4_10_sar/20190906_396_1099/pred_20190906_20190906_396_1099.tif\n",
      "SAR file not found for label ../sampling/samples_200_6_4_10_sar/20190906_397_1100/pred_20190906_20190906_397_1100.tif\n",
      "SAR file not found for label ../sampling/samples_200_6_4_10_sar/20200812_378_745/pred_20200816_20200812_378_745.tif\n",
      "SAR file not found for label ../sampling/samples_200_6_4_10_sar/20190906_394_1099/pred_20190906_20190906_394_1099.tif\n",
      "SAR file not found for label ../sampling/samples_200_6_4_10_sar/20180822_586_1051/pred_20180822_20180822_586_1051.tif\n",
      "SAR file not found for label ../sampling/samples_200_6_4_10_sar/20200812_377_744/pred_20200816_20200812_377_744.tif\n",
      "SAR file not found for label ../sampling/samples_200_6_4_10_sar/20200812_379_746/pred_20200816_20200812_379_746.tif\n",
      "SAR file not found for label ../sampling/samples_200_6_4_10_sar/20190906_393_1102/pred_20190906_20190906_393_1102.tif\n",
      "SAR file not found for label ../sampling/samples_200_6_4_10_sar/20190906_393_1103/pred_20190906_20190906_393_1103.tif\n",
      "SAR file not found for label ../sampling/samples_200_6_4_10_sar/20190906_395_1101/pred_20190906_20190906_395_1101.tif\n",
      "SAR file not found for label ../sampling/samples_200_6_4_10_sar/20200812_379_745/pred_20200816_20200812_379_745.tif\n",
      "SAR file not found for label ../sampling/samples_200_6_4_10_sar/20190906_392_1100/pred_20190906_20190906_392_1100.tif\n",
      "SAR file not found for label ../sampling/samples_200_6_4_10_sar/20190906_393_1100/pred_20190906_20190906_393_1100.tif\n",
      "SAR file not found for label ../sampling/samples_200_6_4_10_sar/20190906_397_1099/pred_20190906_20190906_397_1099.tif\n",
      "SAR file not found for label ../sampling/samples_200_6_4_10_sar/20180822_581_1050/pred_20180822_20180822_581_1050.tif\n",
      "SAR file not found for label ../sampling/samples_200_6_4_10_sar/20180822_582_1050/pred_20180822_20180822_582_1050.tif\n",
      "SAR file not found for label ../sampling/samples_200_6_4_10_sar/20200629_119_783/pred_20200703_20200629_119_783.tif\n",
      "SAR file not found for label ../sampling/samples_200_6_4_10_sar/20180822_583_1052/pred_20180822_20180822_583_1052.tif\n",
      "SAR file not found for label ../sampling/samples_200_6_4_10_sar/20180822_582_1051/pred_20180822_20180822_582_1051.tif\n",
      "SAR file not found for label ../sampling/samples_200_6_4_10_sar/20190906_357_1122/pred_20190906_20190906_357_1122.tif\n",
      "SAR file not found for label ../sampling/samples_200_6_4_10_sar/20190906_394_1101/pred_20190906_20190906_394_1101.tif\n",
      "SAR file not found for label ../sampling/samples_200_6_4_10_sar/20190906_358_1122/pred_20190906_20190906_358_1122.tif\n",
      "SAR file not found for label ../sampling/samples_200_6_4_10_sar/20180917_390_1098/pred_20180921_20180917_390_1098.tif\n",
      "SAR file not found for label ../sampling/samples_200_6_4_10_sar/20180822_580_1050/pred_20180822_20180822_580_1050.tif\n",
      "SAR file not found for label ../sampling/samples_200_6_4_10_sar/20190906_395_1100/pred_20190906_20190906_395_1100.tif\n",
      "SAR file not found for label ../sampling/samples_200_6_4_10_sar/20200812_377_745/pred_20200816_20200812_377_745.tif\n",
      "SAR file not found for label ../sampling/samples_200_6_4_10_sar/20190906_396_1101/pred_20190906_20190906_396_1101.tif\n"
     ]
    }
   ],
   "source": [
    "lst = get_all_tiles(sample_dir='../sampling/samples_200_6_4_10_sar/')"
   ]
  },
  {
   "cell_type": "code",
   "execution_count": 9,
   "id": "fa3366e5-ba8c-4b37-aee9-507f2527f13e",
   "metadata": {},
   "outputs": [],
   "source": [
    "# calculate shift for each tile\n",
    "def get_tile_shift_count(model, channels, standardize, train_mean, lst):\n",
    "    loss_fn = nn.BCEWithLogitsLoss()\n",
    "    tile_shift_count = np.zeros((5, 5), dtype=np.int32)\n",
    "    for dir_path, s2_dt, s1_dt, eid, label_path in lst:\n",
    "        # get label\n",
    "        with rasterio.open(label_path) as src:\n",
    "            label_raster = src.read([1, 2, 3])\n",
    "            # if label has any values != 0 or 255 then print to log!\n",
    "            if np.any((label_raster > 0) & (label_raster < 255)):\n",
    "                raise Exception(f'{label_file} values are not 0 or 255.')\n",
    "                        \n",
    "            label_binary = np.where(label_raster[0] != 0, 1, 0)\n",
    "            label_binary = np.expand_dims(label_binary, axis = 0)\n",
    "        \n",
    "            HEIGHT = src.height\n",
    "            WIDTH = src.width\n",
    "    \n",
    "        if not np.any(label_binary):\n",
    "            print(f'Label {label_path} contains all zeros (no water) so we skip.')\n",
    "            continue\n",
    "            \n",
    "        label = torch.from_numpy(label_binary).squeeze().to(torch.float32)\n",
    "        # get prediction\n",
    "        pred = get_pred_logits(64, model, channels, standardize, train_mean, \n",
    "                                dir_path, s2_dt, s1_dt, eid, device=device)\n",
    "        # calculate shift direction\n",
    "        # return shift direction\n",
    "        i, j = get_best_tile_shift(pred, label, loss_fn)\n",
    "        tile_shift_count[i, j] += 1\n",
    "\n",
    "    return tile_shift_count"
   ]
  },
  {
   "cell_type": "code",
   "execution_count": 36,
   "id": "2cdadf73-31f8-4434-9416-399925af7817",
   "metadata": {},
   "outputs": [
    {
     "data": {
      "text/plain": [
       "array([[  0,   0,   0,   0,   0],\n",
       "       [  0,   0,   0,   0,   0],\n",
       "       [  0,   0,   0,   3,   4],\n",
       "       [  0,   0,  45, 109, 208],\n",
       "       [  0,   0,  17,  22,   5]], dtype=int32)"
      ]
     },
     "execution_count": 36,
     "metadata": {},
     "output_type": "execute_result"
    }
   ],
   "source": [
    "tile_shift_count"
   ]
  },
  {
   "cell_type": "code",
   "execution_count": 37,
   "id": "e24138ff-9e25-40aa-9edb-f85a0e1d5062",
   "metadata": {},
   "outputs": [
    {
     "data": {
      "text/plain": [
       "<matplotlib.image.AxesImage at 0x145e53390890>"
      ]
     },
     "execution_count": 37,
     "metadata": {},
     "output_type": "execute_result"
    },
    {
     "data": {
      "image/png": "[encoded data removed]",
      "text/plain": [
       "<Figure size 640x480 with 1 Axes>"
      ]
     },
     "metadata": {},
     "output_type": "display_data"
    }
   ],
   "source": [
    "plt.imshow(tile_shift_count)"
   ]
  },
  {
   "cell_type": "markdown",
   "id": "b5b99ba0-733d-4304-82c7-e3e11bdc2afe",
   "metadata": {},
   "source": [
    "### Shift + Flipping Model"
   ]
  },
  {
   "cell_type": "code",
   "execution_count": 10,
   "id": "556dd903-63cb-43ec-981f-1e616f8ebfe5",
   "metadata": {},
   "outputs": [
    {
     "name": "stderr",
     "output_type": "stream",
     "text": [
      "/home/dma/miniconda3/envs/floodmaps-training/lib/python3.11/site-packages/rasterio/__init__.py:304: NotGeoreferencedWarning: Dataset has no geotransform, gcps, or rpcs. The identity matrix will be returned.\n",
      "  dataset = DatasetReader(path, driver=driver, sharing=sharing, **kwargs)\n"
     ]
    }
   ],
   "source": [
    "flip_tile_shift_count = get_tile_shift_count(flip_model, channels, standardize, train_mean, lst)"
   ]
  },
  {
   "cell_type": "code",
   "execution_count": 12,
   "id": "3aec0df3-dd26-458c-9973-4c017c1a32bd",
   "metadata": {},
   "outputs": [
    {
     "data": {
      "text/plain": [
       "array([[  0,   0,   0,   0,   0],\n",
       "       [  0,   0,   0,   0,   0],\n",
       "       [  0,   0,   0,   4,  11],\n",
       "       [  0,   0,  10,  27, 283],\n",
       "       [  2,   0,  39,  30,   7]], dtype=int32)"
      ]
     },
     "execution_count": 12,
     "metadata": {},
     "output_type": "execute_result"
    }
   ],
   "source": [
    "flip_tile_shift_count"
   ]
  },
  {
   "cell_type": "code",
   "execution_count": 11,
   "id": "01e99a92-7ae1-49fd-a0b1-1f946d193102",
   "metadata": {},
   "outputs": [
    {
     "data": {
      "text/plain": [
       "<matplotlib.image.AxesImage at 0x1489babe2710>"
      ]
     },
     "execution_count": 11,
     "metadata": {},
     "output_type": "execute_result"
    },
    {
     "data": {
      "image/png": "[encoded data removed]",
      "text/plain": [
       "<Figure size 640x480 with 1 Axes>"
      ]
     },
     "metadata": {},
     "output_type": "display_data"
    }
   ],
   "source": [
    "plt.imshow(flip_tile_shift_count)"
   ]
  }
 ],
 "metadata": {
  "kernelspec": {
   "display_name": "Python 3 (ipykernel)",
   "language": "python",
   "name": "python3"
  },
  "language_info": {
   "codemirror_mode": {
    "name": "ipython",
    "version": 3
   },
   "file_extension": ".py",
   "mimetype": "text/x-python",
   "name": "python",
   "nbconvert_exporter": "python",
   "pygments_lexer": "ipython3",
   "version": "3.11.9"
  }
 },
 "nbformat": 4,
 "nbformat_minor": 5
}
